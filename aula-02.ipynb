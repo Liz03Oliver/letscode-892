{
 "cells": [
  {
   "cell_type": "markdown",
   "metadata": {},
   "source": [
    "# Atividade 02"
   ]
  }
 ],
 "metadata": {
  "kernelspec": {
   "display_name": "Python 3.10.7 64-bit",
   "language": "python",
   "name": "python3"
  },
  "language_info": {
   "name": "python",
   "version": "3.10.7"
  },
  "orig_nbformat": 4,
  "vscode": {
   "interpreter": {
    "hash": "1cad1ce2ad720bd1cc59648c2147a4e907f84f7639e33bb58fc905dae6aee3ee"
   }
  }
 },
 "nbformat": 4,
 "nbformat_minor": 2
}

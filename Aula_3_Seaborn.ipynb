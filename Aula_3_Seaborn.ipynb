{
  "cells": [
    {
      "cell_type": "markdown",
      "metadata": {
        "id": "4vwYaEbEZ4nY"
      },
      "source": [
        "# Aula 3 - Seaborn"
      ]
    },
    {
      "cell_type": "markdown",
      "metadata": {
        "id": "bDc-ZpjtNdbi"
      },
      "source": [
        "[Documentação Seaborn](https://seaborn.pydata.org/tutorial/introduction.html)"
      ]
    },
    {
      "cell_type": "markdown",
      "metadata": {
        "id": "haYz6TsaLS0M"
      },
      "source": [
        "### Imports e Configurações"
      ]
    },
    {
      "cell_type": "code",
      "execution_count": 1,
      "metadata": {
        "id": "KqmaVR4YI2bD"
      },
      "outputs": [],
      "source": [
        "# importando a biblioteca\n",
        "import numpy as np\n",
        "import pandas as pd\n",
        "import matplotlib.pyplot as plt\n",
        "import seaborn as sns"
      ]
    },
    {
      "cell_type": "code",
      "execution_count": null,
      "metadata": {
        "id": "AxqGyoga8RFx"
      },
      "outputs": [],
      "source": [
        "# definindo as configurações\n",
        "\n",
        "# autoreload permite a recarga dos módulos antes da execução dos códigos\n",
        "# doc: https://ipython.org/ipython-doc/3/config/extensions/autoreload.html\n",
        "\n",
        "\n",
        "# magic function do matplotlib para renderizar gráficos estáticos logo abaixo,\n",
        "# no output do jupyter, fazendo a junção do backend do matplotlib com front-end\n",
        "# do jupyter notebook\n",
        "\n",
        "# define o estilo\n",
        "sns.set_style('white')"
      ]
    },
    {
      "cell_type": "markdown",
      "metadata": {
        "id": "gnZFLT4v8RF1"
      },
      "source": [
        "### Carregando as Bases de Dados"
      ]
    },
    {
      "cell_type": "code",
      "execution_count": null,
      "metadata": {
        "id": "jxPf5IxV-hG6"
      },
      "outputs": [],
      "source": [
        "# importando a base 'flights' do seaborn\n",
        "\n"
      ]
    },
    {
      "cell_type": "code",
      "execution_count": null,
      "metadata": {
        "id": "gYwv4x1vN7LB"
      },
      "outputs": [],
      "source": [
        "# importando a base 'penguins' do seaborn\n",
        "\n"
      ]
    },
    {
      "cell_type": "markdown",
      "metadata": {
        "id": "qCaqqu308RF8"
      },
      "source": [
        "### Gráficos"
      ]
    },
    {
      "cell_type": "markdown",
      "metadata": {
        "id": "or4flLEq8RF_"
      },
      "source": [
        "Processo de plotagem:\n",
        "1. entender os dados\n",
        "2. entender a questão de negócio\n",
        "3. ~~realizar as transformações necessárias~~\n",
        "4. realizar o plot"
      ]
    },
    {
      "cell_type": "markdown",
      "metadata": {
        "id": "jY79XA6k8RGB"
      },
      "source": [
        "Documentação:\n",
        "\n",
        "* https://seaborn.pydata.org/tutorial/function_overview.html#figure-level-vs-axes-level-functions\n",
        "* https://seaborn.pydata.org/api.html#function-interface"
      ]
    },
    {
      "cell_type": "markdown",
      "metadata": {
        "id": "kNw2cRoi67mp"
      },
      "source": [
        "#### Gráfico de Barras"
      ]
    },
    {
      "cell_type": "code",
      "execution_count": null,
      "metadata": {
        "id": "wraHKH7DAc34"
      },
      "outputs": [],
      "source": [
        "# observando a base de dados\n",
        "\n"
      ]
    },
    {
      "cell_type": "markdown",
      "metadata": {
        "id": "z_gUAz_28RGG"
      },
      "source": [
        "Qual a quantidade de pinguins por ilha?"
      ]
    },
    {
      "cell_type": "code",
      "execution_count": null,
      "metadata": {
        "id": "5454QkboNa8-"
      },
      "outputs": [],
      "source": [
        "# como seria com plot do pandas?\n",
        "\n"
      ]
    },
    {
      "cell_type": "code",
      "execution_count": null,
      "metadata": {
        "id": "W_f82J8v8RGJ"
      },
      "outputs": [],
      "source": [
        "# como seria com plot do matplotlib?\n",
        "\n"
      ]
    },
    {
      "cell_type": "code",
      "execution_count": null,
      "metadata": {
        "id": "ELn1KjpE8RGL"
      },
      "outputs": [],
      "source": [
        "# visualizando com o seaborn - countplot\n",
        "\n"
      ]
    },
    {
      "cell_type": "markdown",
      "metadata": {
        "id": "1XUCuHUz8RGN"
      },
      "source": [
        "Qual a quantidade de pinguins por ilha e segmentado por sexo?"
      ]
    },
    {
      "cell_type": "code",
      "execution_count": null,
      "metadata": {
        "id": "tZQw1R4q8RGP"
      },
      "outputs": [],
      "source": [
        "# como seria com pandas plot?\n",
        "\n"
      ]
    },
    {
      "cell_type": "code",
      "execution_count": null,
      "metadata": {
        "id": "Bnpva7gh8RGQ"
      },
      "outputs": [],
      "source": [
        "# visualizando com o seaborn - countplot\n",
        "\n"
      ]
    },
    {
      "cell_type": "markdown",
      "metadata": {
        "id": "95eh6TBD8RGR"
      },
      "source": [
        "Qual a média do comprimento da nadadeira por ilha, segmentado por espécie?"
      ]
    },
    {
      "cell_type": "code",
      "execution_count": 2,
      "metadata": {
        "id": "nICipdvO8RGT"
      },
      "outputs": [],
      "source": [
        "# mudando o estilo para darkgrid\n",
        "\n",
        "sns.set_style('darkgrid')"
      ]
    },
    {
      "cell_type": "code",
      "execution_count": null,
      "metadata": {
        "id": "saW_4SwX8RGU"
      },
      "outputs": [],
      "source": [
        "# base de dados pinguins\n",
        "\n"
      ]
    },
    {
      "cell_type": "code",
      "execution_count": null,
      "metadata": {
        "id": "dokRTFFq8RGV"
      },
      "outputs": [],
      "source": [
        "# utilizando o pandas plot\n",
        "\n"
      ]
    },
    {
      "cell_type": "code",
      "execution_count": null,
      "metadata": {
        "id": "vdl2TwRg8RGX"
      },
      "outputs": [],
      "source": [
        "# utilizando o seaborn - barplot\n",
        "\n"
      ]
    },
    {
      "cell_type": "code",
      "execution_count": null,
      "metadata": {
        "id": "QB42g2L08RGY"
      },
      "outputs": [],
      "source": [
        "# adicionando título, rótulos de eixo, ajustando legenda e tamanho\n",
        "\n"
      ]
    },
    {
      "cell_type": "markdown",
      "metadata": {
        "id": "afWQAnyCNh2V"
      },
      "source": [
        "#### Gráfico de Linhas"
      ]
    },
    {
      "cell_type": "code",
      "execution_count": null,
      "metadata": {
        "id": "VeYvhMDgA6gl"
      },
      "outputs": [],
      "source": [
        "# base de dados flights\n",
        "\n"
      ]
    },
    {
      "cell_type": "markdown",
      "metadata": {
        "id": "KRhgh-0O8RGf"
      },
      "source": [
        "Qual a quantidade de passageiros por ano?"
      ]
    },
    {
      "cell_type": "code",
      "execution_count": null,
      "metadata": {
        "id": "ROI4gptj8RGg"
      },
      "outputs": [],
      "source": [
        "# visualizando o total de passageiros por ano com seaborn - lineplot\n",
        "\n"
      ]
    },
    {
      "cell_type": "markdown",
      "metadata": {
        "id": "M9I6GsAo8RGi"
      },
      "source": [
        "Qual a média de passageiros por ano?"
      ]
    },
    {
      "cell_type": "code",
      "execution_count": null,
      "metadata": {
        "id": "rasq4h4Bo1Av"
      },
      "outputs": [],
      "source": [
        "# visualizando a média de passageiros por ano com seaborn - lineplot\n",
        "\n"
      ]
    },
    {
      "cell_type": "markdown",
      "metadata": {
        "id": "Xv5i2Svr8RGm"
      },
      "source": [
        "Qual a quantidade de passageiros por ano, segmentado por mês?"
      ]
    },
    {
      "cell_type": "code",
      "execution_count": null,
      "metadata": {
        "id": "8ilJHjlQpFMC"
      },
      "outputs": [],
      "source": [
        "# visualizando com seaborn - lineplot\n",
        "\n"
      ]
    },
    {
      "cell_type": "markdown",
      "metadata": {
        "id": "f8eh0-jyNjtk"
      },
      "source": [
        "#### Gráfico de Caixa"
      ]
    },
    {
      "cell_type": "code",
      "execution_count": null,
      "metadata": {
        "id": "QPd_swabBcjY"
      },
      "outputs": [],
      "source": [
        "# base de dados penguins\n",
        "\n"
      ]
    },
    {
      "cell_type": "markdown",
      "metadata": {
        "id": "soJnYSXV8RGr"
      },
      "source": [
        "Temos outliers no peso corporal dos pinguins?"
      ]
    },
    {
      "cell_type": "code",
      "execution_count": null,
      "metadata": {
        "id": "kdX64gRuN59X"
      },
      "outputs": [],
      "source": [
        "# visualizando a distibuição com seaborn - boxplot\n",
        "\n"
      ]
    },
    {
      "cell_type": "code",
      "execution_count": null,
      "metadata": {
        "id": "Qr6haKW78RGt"
      },
      "outputs": [],
      "source": [
        "# segmentando a distribuição por sexo\n",
        "\n"
      ]
    },
    {
      "cell_type": "code",
      "execution_count": null,
      "metadata": {
        "id": "na9eiXHc8RGu"
      },
      "outputs": [],
      "source": [
        "# segmentando a distribuição por sexo e espécie\n",
        "\n"
      ]
    },
    {
      "cell_type": "markdown",
      "metadata": {
        "id": "MH0MJIHiNm3X"
      },
      "source": [
        "#### Gráfico de Dispersão"
      ]
    },
    {
      "cell_type": "code",
      "execution_count": null,
      "metadata": {
        "id": "gscN2DY5rG_b"
      },
      "outputs": [],
      "source": [
        "# base de dados pinguins\n"
      ]
    },
    {
      "cell_type": "code",
      "execution_count": null,
      "metadata": {
        "id": "cvAKiKIKN6dv"
      },
      "outputs": [],
      "source": [
        "# visualizando com seaborn - scatterplot\n",
        "\n"
      ]
    },
    {
      "cell_type": "code",
      "execution_count": null,
      "metadata": {
        "id": "8s5k0jcMrWQa"
      },
      "outputs": [],
      "source": [
        "# segmentando por sexo\n",
        "\n"
      ]
    },
    {
      "cell_type": "code",
      "execution_count": null,
      "metadata": {
        "id": "KOhEDkqUwaRG"
      },
      "outputs": [],
      "source": [
        "# segmentando por espécie\n",
        "\n"
      ]
    },
    {
      "cell_type": "code",
      "execution_count": null,
      "metadata": {
        "id": "_l8itMMIrWIq"
      },
      "outputs": [],
      "source": [
        "# segmentando por espécie e sexo com o parâmetro style\n",
        "\n"
      ]
    },
    {
      "cell_type": "code",
      "execution_count": null,
      "metadata": {
        "id": "0T5WaDed8RG3"
      },
      "outputs": [],
      "source": [
        "# visualizando com seaborn - regplot\n",
        "\n"
      ]
    },
    {
      "cell_type": "code",
      "execution_count": null,
      "metadata": {
        "id": "hpsRGOx28RG4"
      },
      "outputs": [],
      "source": [
        "# visualizando com seaborn - lmplot\n",
        "# segmentando por espécie\n",
        "\n"
      ]
    },
    {
      "cell_type": "markdown",
      "metadata": {
        "id": "1tiqjcsl8RG5"
      },
      "source": [
        "#### Pairplot para Analise Exploratória"
      ]
    },
    {
      "cell_type": "code",
      "execution_count": null,
      "metadata": {
        "id": "MAOvzkotwmhz"
      },
      "outputs": [],
      "source": [
        "# Observando a relação entre todas variáveis numéricas\n",
        "\n"
      ]
    },
    {
      "cell_type": "code",
      "execution_count": null,
      "metadata": {
        "id": "ZBKZB1Z08RG8"
      },
      "outputs": [],
      "source": [
        "# Observando a relação entre todas variáveis numéricas segmentado por sexo\n",
        "\n"
      ]
    },
    {
      "cell_type": "code",
      "execution_count": null,
      "metadata": {
        "id": "ChscEM9oxSnN"
      },
      "outputs": [],
      "source": [
        "# Observando a relação entre todas variáveis numéricas segmentado por espécie\n",
        "\n"
      ]
    },
    {
      "cell_type": "markdown",
      "metadata": {
        "id": "Mm0jn3h2wyiq"
      },
      "source": [
        "### Atividade"
      ]
    },
    {
      "cell_type": "markdown",
      "metadata": {
        "id": "t5dFD1NQxhyc"
      },
      "source": [
        "Resolver as questões abaixo. Em seguida, criar um repositório público no GitHub e armazenar no notebook criado, enviando somente o link do NOTEBOOK para o [Formulário](https://docs.google.com/forms/d/e/1FAIpQLSf8IUCLt4kowhHhB3SRQofE2I8NuXuDadBYjRHqUxgb3yWOaQ/viewform)."
      ]
    },
    {
      "cell_type": "markdown",
      "metadata": {
        "id": "Lz_HxvyCMGH8"
      },
      "source": [
        "Para resolver as questões abaixo utilizar o dataset 'tips' do seaborn.\n",
        "\n",
        "*According to the tips dataset documentation, the Tips dataset is a data frame with 244 rows and 7 variables which represents some tipping data where one waiter recorded information about each tip he received over a period of a few months working in one restaurant. In all the waiter recorded 244 tips. The data was reported in a collection of case studies for business statistics (Bryant & Smith 1995).[4] The waiter collected several variables: The **tip** in dollars, the **bill** in dollars, the **sex** of the bill payer, whether there were **smokers** in the party, the **day** of the week, the **time** of day and the **size** of the party.*"
      ]
    },
    {
      "cell_type": "code",
      "execution_count": null,
      "metadata": {
        "id": "90fTvZsOYdBS"
      },
      "outputs": [],
      "source": [
        "import numpy as np\n",
        "import pandas as pd\n",
        "import seaborn as sns\n",
        "import matplotlib.pyplot as plt\n"
      ]
    },
    {
      "cell_type": "code",
      "execution_count": null,
      "metadata": {
        "id": "ScRbFyXLYfsK"
      },
      "outputs": [],
      "source": []
    },
    {
      "cell_type": "code",
      "execution_count": null,
      "metadata": {
        "id": "1bq3ztJQYhMq"
      },
      "outputs": [],
      "source": []
    },
    {
      "cell_type": "markdown",
      "metadata": {
        "id": "xHZnoZLJyw68"
      },
      "source": [
        "#### Questão 1"
      ]
    },
    {
      "cell_type": "markdown",
      "metadata": {
        "id": "-tf603-EYwaR"
      },
      "source": [
        "Qual o valor médio da gorjeta (*tip*) de acordo com o dia da semana (*day*)?"
      ]
    },
    {
      "cell_type": "code",
      "execution_count": null,
      "metadata": {
        "id": "jJTZKOnh4dEa"
      },
      "outputs": [],
      "source": []
    },
    {
      "cell_type": "code",
      "execution_count": null,
      "metadata": {
        "id": "rhew6x5xxSni"
      },
      "outputs": [],
      "source": []
    },
    {
      "cell_type": "markdown",
      "metadata": {
        "id": "qHF6jaTSy1qg"
      },
      "source": [
        "#### Questão 2"
      ]
    },
    {
      "cell_type": "markdown",
      "metadata": {
        "id": "7F7zfc2RZLWW"
      },
      "source": [
        "Qual a soma das gorjetas (*tip*) por turno do dia (*time*), observando os fumantes e não fumantes (*smoker*)?"
      ]
    },
    {
      "cell_type": "code",
      "execution_count": null,
      "metadata": {
        "id": "QKATR4_o47Mj"
      },
      "outputs": [],
      "source": []
    },
    {
      "cell_type": "code",
      "execution_count": null,
      "metadata": {
        "id": "ATO8JBqPLUV0"
      },
      "outputs": [],
      "source": []
    },
    {
      "cell_type": "markdown",
      "metadata": {
        "id": "tov6vdyzy4jQ"
      },
      "source": [
        "#### Questão 3"
      ]
    },
    {
      "cell_type": "markdown",
      "metadata": {
        "id": "gkiKz8h-8RHQ"
      },
      "source": [
        "Verique a distribuição de gorjetas (*tip*) por dia (*day*) e turno (*time*). Há algum dia e turno com maior presença de outliers?"
      ]
    },
    {
      "cell_type": "code",
      "execution_count": null,
      "metadata": {
        "id": "d2xCL55851JU"
      },
      "outputs": [],
      "source": []
    },
    {
      "cell_type": "code",
      "execution_count": null,
      "metadata": {
        "id": "8yW0ly3DaYfn"
      },
      "outputs": [],
      "source": []
    },
    {
      "cell_type": "markdown",
      "metadata": {
        "id": "_CsMciDSy6Aa"
      },
      "source": [
        "#### Questão 4"
      ]
    },
    {
      "cell_type": "markdown",
      "metadata": {
        "id": "F6Ix1Je7d7D6"
      },
      "source": [
        "Qual a relação do valor total da conta com o valor da gorjeta?"
      ]
    },
    {
      "cell_type": "code",
      "execution_count": null,
      "metadata": {
        "id": "37zoNA-t8LbF"
      },
      "outputs": [],
      "source": []
    },
    {
      "cell_type": "code",
      "execution_count": null,
      "metadata": {
        "id": "zWzQ7c7Qy6-0"
      },
      "outputs": [],
      "source": []
    },
    {
      "cell_type": "code",
      "execution_count": null,
      "metadata": {
        "id": "lxBpmzd48ZhK"
      },
      "outputs": [],
      "source": []
    },
    {
      "cell_type": "markdown",
      "metadata": {
        "id": "6VrR1rqTy7WN"
      },
      "source": [
        "#### Questão 5"
      ]
    },
    {
      "cell_type": "markdown",
      "metadata": {
        "id": "YHNOTi3WeV1d"
      },
      "source": [
        "Qual público dá maior quantidade de gorjetas:\n",
        "\n",
        "\n",
        "1.   Homens ou mulheres?\n",
        "2.   Fumantes ou não fumantes?\n",
        "\n"
      ]
    },
    {
      "cell_type": "code",
      "execution_count": null,
      "metadata": {
        "id": "rPKgJ4a4f1Qo"
      },
      "outputs": [],
      "source": []
    },
    {
      "cell_type": "code",
      "execution_count": null,
      "metadata": {
        "id": "xOCL37k-NClG"
      },
      "outputs": [],
      "source": []
    },
    {
      "cell_type": "code",
      "execution_count": null,
      "metadata": {
        "id": "K4d3jr5K8RHd"
      },
      "outputs": [],
      "source": []
    }
  ],
  "metadata": {
    "colab": {
      "provenance": []
    },
    "kernelspec": {
      "display_name": "Python 3.10.8 ('venv': venv)",
      "language": "python",
      "name": "python3"
    },
    "language_info": {
      "codemirror_mode": {
        "name": "ipython",
        "version": 3
      },
      "file_extension": ".py",
      "mimetype": "text/x-python",
      "name": "python",
      "nbconvert_exporter": "python",
      "pygments_lexer": "ipython3",
      "version": "3.10.8"
    },
    "vscode": {
      "interpreter": {
        "hash": "011058aebaf4b19f79d0be1ec630c137a8649bad5528b325520e5253676ee73f"
      }
    }
  },
  "nbformat": 4,
  "nbformat_minor": 0
}
